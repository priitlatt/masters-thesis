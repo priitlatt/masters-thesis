{
 "cells": [
  {
   "cell_type": "code",
   "execution_count": 2,
   "metadata": {
    "collapsed": true
   },
   "outputs": [],
   "source": [
    "from itertools import permutations\n",
    "\n",
    "from IPython.display import display_latex, Latex"
   ]
  },
  {
   "cell_type": "code",
   "execution_count": 3,
   "metadata": {
    "collapsed": true
   },
   "outputs": [],
   "source": [
    "def parity(p):\n",
    "    s = 0\n",
    "    for i, i_k in enumerate(p):\n",
    "        for i_l in p[i:]:\n",
    "            s += i_k > i_l\n",
    "    return s % 2"
   ]
  },
  {
   "cell_type": "code",
   "execution_count": 4,
   "metadata": {
    "collapsed": false
   },
   "outputs": [
    {
     "name": "stdout",
     "output_type": "stream",
     "text": [
      "(1, 2, 3) 0\n",
      "(1, 3, 2) 1\n",
      "(2, 1, 3) 1\n",
      "(2, 3, 1) 0\n",
      "(3, 1, 2) 0\n",
      "(3, 2, 1) 1\n"
     ]
    }
   ],
   "source": [
    "l = [1, 2, 3]\n",
    "ps = list(permutations(l))\n",
    "\n",
    "for p in ps:\n",
    "    print(p, parity(p))"
   ]
  },
  {
   "cell_type": "code",
   "execution_count": 5,
   "metadata": {
    "collapsed": false
   },
   "outputs": [
    {
     "data": {
      "text/latex": [
       "\\[ (1, 2, 3) \\rightarrow 0 \\]"
      ]
     },
     "metadata": {},
     "output_type": "display_data"
    },
    {
     "data": {
      "text/latex": [
       "\\[ (1, 3, 2) \\rightarrow \\left| \\phi_2 \\right| \\left| \\phi_3 \\right| \\]"
      ]
     },
     "metadata": {},
     "output_type": "display_data"
    },
    {
     "data": {
      "text/latex": [
       "\\[ (2, 1, 3) \\rightarrow \\left| \\phi_1 \\right| \\left| \\phi_2 \\right| \\]"
      ]
     },
     "metadata": {},
     "output_type": "display_data"
    },
    {
     "data": {
      "text/latex": [
       "\\[ (2, 3, 1) \\rightarrow \\left| \\phi_1 \\right| \\left( \\left| \\phi_2 \\right| + \\left| \\phi_3 \\right| \\right) \\]"
      ]
     },
     "metadata": {},
     "output_type": "display_data"
    },
    {
     "data": {
      "text/latex": [
       "\\[ (3, 1, 2) \\rightarrow \\left| \\phi_1 \\right| \\left| \\phi_3 \\right| + \\left| \\phi_2 \\right| \\left| \\phi_3 \\right| \\]"
      ]
     },
     "metadata": {},
     "output_type": "display_data"
    },
    {
     "data": {
      "text/latex": [
       "\\[ (3, 2, 1) \\rightarrow \\left| \\phi_2 \\right| \\left| \\phi_3 \\right| + \\left| \\phi_1 \\right| \\left( \\left| \\phi_3 \\right| + \\left| \\phi_2 \\right| \\right) \\]"
      ]
     },
     "metadata": {},
     "output_type": "display_data"
    }
   ],
   "source": [
    "n = 3\n",
    "for p in ps:\n",
    "    ss = []\n",
    "    for k in range(0, n):\n",
    "        i_k = p[k]\n",
    "        i_ls = []\n",
    "        for l in range(0, k):\n",
    "            i_l = p[l]\n",
    "            if i_k < i_l:\n",
    "                i_ls.append(r\"\\left| \\phi_%d \\right|\" % i_l)\n",
    "        if len(i_ls) == 0:\n",
    "            continue\n",
    "        elif len(i_ls) == 1:\n",
    "            s = r\"\\left| \\phi_%d \\right| %s\" % (i_k, i_ls[0])\n",
    "        else:\n",
    "            args = (i_k, ' + '.join(i_ls))\n",
    "            s = r\"\\left| \\phi_%d \\right| \\left( %s \\right)\" % args\n",
    "        ss.append(s)\n",
    "    s = \" + \".join(ss) if ss else '0'\n",
    "    display_latex(Latex(r\"\\[ %s \\rightarrow %s \\]\" % (p, s)))"
   ]
  },
  {
   "cell_type": "code",
   "execution_count": 8,
   "metadata": {
    "collapsed": false
   },
   "outputs": [
    {
     "data": {
      "text/latex": [
       "\\[ \\left[\\phi_1 \\circ [\\psi_1, \\psi_2], \\phi_2, \\phi_3\\right] = \\phi_1 \\circ [\\psi_1, \\psi_2] \\circ [\\phi_2, \\phi_3] - (-1)^{ \\left|\\phi_1 \\circ [\\psi_1, \\psi_2]\\right|\\left|\\phi_2\\right| } \\phi_2 \\circ [\\phi_1 \\circ [\\psi_1, \\psi_2], \\phi_3] + (-1)^{ \\left|\\phi_1 \\circ [\\psi_1, \\psi_2]\\right|\\left|\\phi_3\\right|+\\left|\\phi_2\\right|\\left|\\phi_3\\right| } \\phi_3 \\circ [\\phi_1 \\circ [\\psi_1, \\psi_2], \\phi_2] \\]"
      ]
     },
     "metadata": {},
     "output_type": "display_data"
    },
    {
     "data": {
      "text/latex": [
       "\\[ \\left[\\phi_1 \\circ [\\phi_2, \\phi_3], \\phi_4, \\phi_5\\right] = \\phi_1 \\circ [\\phi_2, \\phi_3] \\circ [\\phi_4, \\phi_5] - (-1)^{ \\left|\\phi_1 \\circ [\\phi_2, \\phi_3]\\right|\\left|\\phi_4\\right| } \\phi_4 \\circ [\\phi_1 \\circ [\\phi_2, \\phi_3], \\phi_5] + (-1)^{ \\left|\\phi_1 \\circ [\\phi_2, \\phi_3]\\right|\\left|\\phi_5\\right|+\\left|\\phi_4\\right|\\left|\\phi_5\\right| } \\phi_5 \\circ [\\phi_1 \\circ [\\phi_2, \\phi_3], \\phi_4] \\]"
      ]
     },
     "metadata": {},
     "output_type": "display_data"
    },
    {
     "data": {
      "text/latex": [
       "\\[ \\left[\\phi_1, \\phi_2, \\phi_3\\right] = \\phi_1 \\circ [\\phi_2, \\phi_3] - (-1)^{ \\left|\\phi_1\\right|\\left|\\phi_2\\right| } \\phi_2 \\circ [\\phi_1, \\phi_3] + (-1)^{ \\left|\\phi_1\\right|\\left|\\phi_3\\right|+\\left|\\phi_2\\right|\\left|\\phi_3\\right| } \\phi_3 \\circ [\\phi_1, \\phi_2] \\]"
      ]
     },
     "metadata": {},
     "output_type": "display_data"
    }
   ],
   "source": [
    "def ternary_to_bin(*ternary):\n",
    "    lhs = r\"\\left[{}, {}, {}\\right]\".format(*ternary)\n",
    "    \n",
    "    r1 = \"{1} \\circ [{2}, {3}]\"\n",
    "    r2 = r\"(-1)^{{ \\left|{1}\\right|\\left|{2}\\right| }} {2} \\circ [{1}, {3}]\"\n",
    "    r3 = r\"(-1)^{{ \\left|{1}\\right|\\left|{3}\\right|+\\left|{2}\\right|\\left|{3}\\right| }} {3} \\circ [{1}, {2}]\"\n",
    "    r = \"{} - {} + {}\".format(r1, r2, r3)\n",
    "    rhs = r.format(None, *ternary)\n",
    "\n",
    "    latex = r\"\\[ {} = {} \\]\".format(lhs, rhs)\n",
    "    display_latex(Latex(latex))\n",
    "\n",
    "ternary_to_bin(r\"\\phi_1 \\circ [\\psi_1, \\psi_2]\", r\"\\phi_2\", r\"\\phi_3\")\n",
    "ternary_to_bin(r\"\\phi_1 \\circ [\\phi_2, \\phi_3]\", r\"\\phi_4\", r\"\\phi_5\")\n",
    "ternary_to_bin(r\"\\phi_1\" , r\"\\phi_2\", r\"\\phi_3\")\n"
   ]
  },
  {
   "cell_type": "code",
   "execution_count": null,
   "metadata": {
    "collapsed": true
   },
   "outputs": [],
   "source": []
  }
 ],
 "metadata": {
  "kernelspec": {
   "display_name": "Python 3",
   "language": "python",
   "name": "python3"
  },
  "language_info": {
   "codemirror_mode": {
    "name": "ipython",
    "version": 3
   },
   "file_extension": ".py",
   "mimetype": "text/x-python",
   "name": "python",
   "nbconvert_exporter": "python",
   "pygments_lexer": "ipython3",
   "version": "3.4.2"
  }
 },
 "nbformat": 4,
 "nbformat_minor": 0
}
