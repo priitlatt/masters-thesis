{
 "cells": [
  {
   "cell_type": "code",
   "execution_count": 25,
   "metadata": {
    "collapsed": false
   },
   "outputs": [],
   "source": [
    "from itertools import permutations, tee\n",
    "\n",
    "from IPython.display import display_latex, Latex"
   ]
  },
  {
   "cell_type": "code",
   "execution_count": 26,
   "metadata": {
    "collapsed": false
   },
   "outputs": [],
   "source": [
    "def pairs(xs):\n",
    "    return ((x, y) for i, x in enumerate(xs) for y in xs[i+1:])\n",
    "\n",
    "def parity(xs):\n",
    "    return sum((x > y for x, y in pairs(xs))) % 2"
   ]
  },
  {
   "cell_type": "code",
   "execution_count": 27,
   "metadata": {
    "collapsed": false
   },
   "outputs": [
    {
     "name": "stdout",
     "output_type": "stream",
     "text": [
      "(1, 2, 3) 0\n",
      "(1, 3, 2) 1\n",
      "(2, 1, 3) 1\n",
      "(2, 3, 1) 0\n",
      "(3, 1, 2) 0\n",
      "(3, 2, 1) 1\n"
     ]
    }
   ],
   "source": [
    "for p in list(permutations([1, 2, 3])):\n",
    "    print(p, parity(p))"
   ]
  },
  {
   "cell_type": "code",
   "execution_count": 28,
   "metadata": {
    "collapsed": false
   },
   "outputs": [
    {
     "data": {
      "text/latex": [
       "\\[ (1, 2, 3) \\rightarrow 0 \\]"
      ]
     },
     "metadata": {},
     "output_type": "display_data"
    },
    {
     "data": {
      "text/latex": [
       "\\[ (1, 3, 2) \\rightarrow \\left| \\phi_2 \\right| \\left| \\phi_3 \\right| \\]"
      ]
     },
     "metadata": {},
     "output_type": "display_data"
    },
    {
     "data": {
      "text/latex": [
       "\\[ (2, 1, 3) \\rightarrow \\left| \\phi_1 \\right| \\left| \\phi_2 \\right| \\]"
      ]
     },
     "metadata": {},
     "output_type": "display_data"
    },
    {
     "data": {
      "text/latex": [
       "\\[ (2, 3, 1) \\rightarrow \\left| \\phi_1 \\right| \\left( \\left| \\phi_2 \\right| + \\left| \\phi_3 \\right| \\right) \\]"
      ]
     },
     "metadata": {},
     "output_type": "display_data"
    },
    {
     "data": {
      "text/latex": [
       "\\[ (3, 1, 2) \\rightarrow \\left| \\phi_1 \\right| \\left| \\phi_3 \\right| + \\left| \\phi_2 \\right| \\left| \\phi_3 \\right| \\]"
      ]
     },
     "metadata": {},
     "output_type": "display_data"
    },
    {
     "data": {
      "text/latex": [
       "\\[ (3, 2, 1) \\rightarrow \\left| \\phi_2 \\right| \\left| \\phi_3 \\right| + \\left| \\phi_1 \\right| \\left( \\left| \\phi_3 \\right| + \\left| \\phi_2 \\right| \\right) \\]"
      ]
     },
     "metadata": {},
     "output_type": "display_data"
    }
   ],
   "source": [
    "def perm_to_parity(ls):\n",
    "    ps = permutations(ls)\n",
    "    n = len(ls)\n",
    "    for p in ps:\n",
    "        ss = []\n",
    "        for k in range(0, n):\n",
    "            i_k = p[k]\n",
    "            i_ls = []\n",
    "            for l in range(0, k):\n",
    "                i_l = p[l]\n",
    "                if i_k < i_l:\n",
    "                    i_ls.append(r\"\\left| \\phi_%d \\right|\" % i_l)\n",
    "            if len(i_ls) == 0:\n",
    "                continue\n",
    "            elif len(i_ls) == 1:\n",
    "                s = r\"\\left| \\phi_%d \\right| %s\" % (i_k, i_ls[0])\n",
    "            else:\n",
    "                args = (i_k, ' + '.join(i_ls))\n",
    "                s = r\"\\left| \\phi_%d \\right| \\left( %s \\right)\" % args\n",
    "            ss.append(s)\n",
    "        s = \" + \".join(ss) if ss else '0'\n",
    "        display_latex(Latex(r\"\\[ %s \\rightarrow %s \\]\" % (p, s)))\n",
    "\n",
    "perm_to_parity([1,2,3])"
   ]
  },
  {
   "cell_type": "code",
   "execution_count": 29,
   "metadata": {
    "collapsed": false
   },
   "outputs": [
    {
     "data": {
      "text/latex": [
       "\\begin{align*} [e \\circ f, g, h]& = \\\\ e \\circ f \\circ g \\circ h& + \\\\(-1)^{1 + |g||h|}e \\circ f \\circ h \\circ g& + \\\\(-1)^{1 + |e \\circ f||g|}g \\circ e \\circ f \\circ h& + \\\\(-1)^{|e \\circ f||g| + |e \\circ f||h|}g \\circ h \\circ e \\circ f& + \\\\(-1)^{|e \\circ f||h| + |g||h|}h \\circ e \\circ f \\circ g& + \\\\(-1)^{1 + |e \\circ f||g| + |e \\circ f||h| + |g||h|}h \\circ g \\circ e \\circ f \\end{align*}"
      ]
     },
     "metadata": {},
     "output_type": "display_data"
    },
    {
     "data": {
      "text/latex": [
       "\\begin{align*} [f, g, h]& = \\\\ f \\circ g \\circ h& + \\\\(-1)^{1 + |g||h|}f \\circ h \\circ g& + \\\\(-1)^{1 + |f||g|}g \\circ f \\circ h& + \\\\(-1)^{|f||g| + |f||h|}g \\circ h \\circ f& + \\\\(-1)^{|f||h| + |g||h|}h \\circ f \\circ g& + \\\\(-1)^{1 + |f||g| + |f||h| + |g||h|}h \\circ g \\circ f \\end{align*}"
      ]
     },
     "metadata": {},
     "output_type": "display_data"
    },
    {
     "data": {
      "text/latex": [
       "\\begin{align*} [e, g, h]& = \\\\ e \\circ g \\circ h& + \\\\(-1)^{1 + |g||h|}e \\circ h \\circ g& + \\\\(-1)^{1 + |e||g|}g \\circ e \\circ h& + \\\\(-1)^{|e||g| + |e||h|}g \\circ h \\circ e& + \\\\(-1)^{|e||h| + |g||h|}h \\circ e \\circ g& + \\\\(-1)^{1 + |e||g| + |e||h| + |g||h|}h \\circ g \\circ e \\end{align*}"
      ]
     },
     "metadata": {},
     "output_type": "display_data"
    }
   ],
   "source": [
    "def comm(indexes, only_starts_with=None, display=True, var=r\"\\phi\"):\n",
    "    def perm_to_power(p):\n",
    "        def sort(x, y): return (x, y) if x < y else (y, x)\n",
    "        def pair_to_prod(i1, i2): return r\"|%s_%d||%s_%d|\" % (var, i1, var, i2)\n",
    "        parity_s = \"1\" if parity(p) > 0 else \"\"\n",
    "        products = [sort(el, other) for i, el in enumerate(p) for other in p[i+1:] if el > other]\n",
    "        sum_s = \" + \".join([pair_to_prod(*p) for p in sorted(products)])\n",
    "        if parity_s and sum_s:\n",
    "            return \"%s + %s\" % (parity_s, sum_s)\n",
    "        return parity_s or sum_s\n",
    "\n",
    "    def perm_to_term(p):\n",
    "        power = perm_to_power(p)\n",
    "        sign = r\"(-1)^{%s}\" % power if power else \"\"\n",
    "        return sign + r\" \\circ \".join((r\"%s_%d\" % (var, d) for d in p))\n",
    "\n",
    "    perms = sorted(permutations(indexes), key=lambda xs: xs[0])\n",
    "    if only_starts_with:\n",
    "        perms = [p for p in perms if p[0] == only_starts_with]\n",
    "    terms = map(perm_to_term, perms)\n",
    "    left = \"[%s]\" % \", \".join((r\"%s_%d\" % (var, i) for i in indexes))\n",
    "    right = r\"& + \\\\\".join(terms)\n",
    "    latex = r\"\\begin{align*} %s& = \\\\ %s \\end{align*}\" % (left, right)\n",
    "    if display:\n",
    "        display_latex(Latex(latex))\n",
    "    return latex\n",
    "\n",
    "\n",
    "def comm2(*args, display=True):\n",
    "    perms = sorted(permutations(enumerate(args, start=1)), key=lambda p: p[0])\n",
    "    \n",
    "    def perm_to_power(p):\n",
    "        def sort(x, y): return (x, y) if x < y else (y, x)\n",
    "        def pair_to_prod(v1, v2): return r\"|%s||%s|\" % (v1, v2)\n",
    "        parity_s = \"1\" if parity([i for (i, _) in p]) > 0 else \"\"\n",
    "        products = [sort(v1, v2) for k, (i1, v1) in enumerate(p) for (i2, v2) in p[k+1:] if i1 > i2]\n",
    "        sum_s = \" + \".join([pair_to_prod(*p) for p in sorted(products)])\n",
    "        if parity_s and sum_s:\n",
    "            return \"%s + %s\" % (parity_s, sum_s)\n",
    "        return parity_s or sum_s\n",
    "    \n",
    "    def perm_to_term(p):\n",
    "        power = perm_to_power(p)\n",
    "        sign = r\"(-1)^{%s}\" % power if power else \"\"\n",
    "        return sign + r\" \\circ \".join((v for (_, v) in p))\n",
    "\n",
    "    terms = map(perm_to_term, perms)\n",
    "    left = \"[%s]\" % \", \".join(args)\n",
    "    right = r\"& + \\\\\".join(terms)\n",
    "    latex = r\"\\begin{align*} %s& = \\\\ %s \\end{align*}\" % (left, right)\n",
    "    if display:\n",
    "        display_latex(Latex(latex))\n",
    "    return latex\n",
    "\n",
    "\n",
    "_ = comm2('e \\circ f', 'g', 'h')\n",
    "_ = comm2('f', 'g', 'h')\n",
    "_ = comm2('e', 'g', 'h')\n",
    "\n",
    "# l1 = comm([1,2,3,4], only_starts_with=1)\n",
    "# l2 = comm([2,3,4], var=r\"\\psi\")\n",
    "\n",
    "# latex = r\"\"\"\n",
    "# \\begin{tabular}{ l l }\n",
    "#   %s & %s\n",
    "# \\end{tabular}\n",
    "# \"\"\" % (l1, l2)\n",
    "\n",
    "# print(latex)\n",
    "# display_latex(Latex(latex))"
   ]
  },
  {
   "cell_type": "code",
   "execution_count": 43,
   "metadata": {
    "collapsed": false
   },
   "outputs": [],
   "source": [
    "def ternary_to_bin(*ternary):\n",
    "    lhs = r\"\\left[{}, {}, {}\\right]\".format(*ternary)\n",
    "    \n",
    "    r1 = \"{1} \\circ [{2}, {3}]\"\n",
    "    r2 = r\"(-1)^{{ 1 + \\left|{1}\\right|\\left|{2}\\right| }} {2} \\circ [{1}, {3}]\"\n",
    "    r3 = r\"(-1)^{{ \\left|{1}\\right|\\left|{3}\\right|+\\left|{2}\\right|\\left|{3}\\right| }} {3} \\circ [{1}, {2}]\"\n",
    "    r = r\"{}& + \\\\ {}& + \\\\ {}&\".format(r1, r2, r3)\n",
    "    rhs = r.format(None, *ternary)\n",
    "\n",
    "    latex = r\"\\begin{{align*}} {}& = \\\\ {} \\end{{align*}}\".format(lhs, rhs)\n",
    "    display_latex(Latex(latex))\n",
    "    return r\"{}& = \\\\ {}\".format(lhs, rhs)\n",
    "    \n",
    "    \n",
    "# ternary_to_bin(r'e \\circ f', 'g', 'h')\n",
    "# ternary_to_bin(r'f', 'g', 'h')\n",
    "# ternary_to_bin(r'e', 'g', 'h')\n",
    "\n"
   ]
  },
  {
   "cell_type": "code",
   "execution_count": 31,
   "metadata": {
    "collapsed": false
   },
   "outputs": [
    {
     "data": {
      "text/latex": [
       "\\begin{align*} \\left[\\psi_1 \\circ [\\psi_2, \\phi_1], \\phi_2, \\phi_3\\right]& = \\\\ \\psi_1 \\circ [\\psi_2, \\phi_1] \\circ [\\phi_2, \\phi_3]& + \\\\ (-1)^{ 1 + \\left|\\psi_1 \\circ [\\psi_2, \\phi_1]\\right|\\left|\\phi_2\\right| } \\phi_2 \\circ [\\psi_1 \\circ [\\psi_2, \\phi_1], \\phi_3]& + \\\\ (-1)^{ \\left|\\psi_1 \\circ [\\psi_2, \\phi_1]\\right|\\left|\\phi_3\\right|+\\left|\\phi_2\\right|\\left|\\phi_3\\right| } \\phi_3 \\circ [\\psi_1 \\circ [\\psi_2, \\phi_1], \\phi_2]& \\end{align*}"
      ]
     },
     "metadata": {},
     "output_type": "display_data"
    }
   ],
   "source": [
    "# (*) a1, a2, a3\n",
    "ternary_to_bin(r\"\\psi_1 \\circ [\\psi_2, \\phi_1]\", r\"\\phi_2\", r\"\\phi_3\")  # a1\n",
    "# ternary_to_bin(r\"\\psi_2 \\circ [\\psi_1, \\phi_1]\", r\"\\phi_2\", r\"\\phi_3\")  # a2\n",
    "# ternary_to_bin(r\"\\phi_1 \\circ [\\psi_1, \\psi_2]\", r\"\\phi_2\", r\"\\phi_3\")  # a3\n",
    "\n",
    "# (**)\n",
    "# ternary_to_bin(r\"\\phi_1\", r\"\\psi_1 \\circ [\\psi_2, \\phi_2]\", r\"\\phi_3\")  # b1\n",
    "# ternary_to_bin(r\"\\phi_1\", r\"\\psi_2 \\circ [\\psi_1, \\phi_2]\", r\"\\phi_3\")  # b2\n",
    "# ternary_to_bin(r\"\\phi_1\", r\"\\phi_2 \\circ [\\psi_1, \\psi_2]\", r\"\\phi_3\")  # b3\n",
    "\n",
    "# (***)\n",
    "# ternary_to_bin(r\"\\phi_1\", r\"\\phi_2\", r\"\\psi_1 \\circ [\\psi_2, \\phi_3]\")  # c1\n",
    "# ternary_to_bin(r\"\\phi_1\", r\"\\phi_2\", r\"\\psi_2 \\circ [\\psi_1, \\phi_3]\")  # c2\n",
    "# ternary_to_bin(r\"\\phi_1\", r\"\\phi_2\", r\"\\phi_3 \\circ [\\psi_1, \\psi_2]\")  # c3"
   ]
  },
  {
   "cell_type": "code",
   "execution_count": 46,
   "metadata": {
    "collapsed": false
   },
   "outputs": [
    {
     "data": {
      "text/latex": [
       "\\begin{align*} \\left[\\psi_1, \\psi_2, \\phi_3 \\circ [\\phi_1, \\phi_2]\\right]& = \\\\ \\psi_1 \\circ [\\psi_2, \\phi_3 \\circ [\\phi_1, \\phi_2]]& + \\\\ (-1)^{ 1 + \\left|\\psi_1\\right|\\left|\\psi_2\\right| } \\psi_2 \\circ [\\psi_1, \\phi_3 \\circ [\\phi_1, \\phi_2]]& + \\\\ (-1)^{ \\left|\\psi_1\\right|\\left|\\phi_3 \\circ [\\phi_1, \\phi_2]\\right|+\\left|\\psi_2\\right|\\left|\\phi_3 \\circ [\\phi_1, \\phi_2]\\right| } \\phi_3 \\circ [\\phi_1, \\phi_2] \\circ [\\psi_1, \\psi_2]& \\end{align*}"
      ]
     },
     "metadata": {},
     "output_type": "display_data"
    },
    {
     "name": "stdout",
     "output_type": "stream",
     "text": [
      "\\left[\\psi_1, \\psi_2, \\phi_3 \\circ [\\phi_1, \\phi_2]\\right]& = \\\\ \\psi_1 \\circ [\\psi_2, \\phi_3 \\circ [\\phi_1, \\phi_2]]& + \\\\ (-1)^{ 1 + \\left|\\psi_1\\right|\\left|\\psi_2\\right| } \\psi_2 \\circ [\\psi_1, \\phi_3 \\circ [\\phi_1, \\phi_2]]& + \\\\ (-1)^{ \\left|\\psi_1\\right|\\left|\\phi_3 \\circ [\\phi_1, \\phi_2]\\right|+\\left|\\psi_2\\right|\\left|\\phi_3 \\circ [\\phi_1, \\phi_2]\\right| } \\phi_3 \\circ [\\phi_1, \\phi_2] \\circ [\\psi_1, \\psi_2]&\n"
     ]
    }
   ],
   "source": [
    "# left hand side of the Jacobi identity\n",
    "# calculate [\\psi_1, \\psi_2, [\\phi_1, \\phi_2, \\phi_3]]\n",
    "\n",
    "# ternary_to_bin(r\"\\phi_1\", r\"\\phi_2\", r\"\\phi_3\")\n",
    "\n",
    "# latex = ternary_to_bin(r\"\\psi_1\", r\"\\psi_2\", r\"\\phi_1 \\circ [\\phi_2, \\phi_3]\")  # t1\n",
    "# latex = ternary_to_bin(r\"\\psi_1\", r\"\\psi_2\", r\"\\phi_2 \\circ [\\phi_1, \\phi_3]\")  # t2\n",
    "latex = ternary_to_bin(r\"\\psi_1\", r\"\\psi_2\", r\"\\phi_3 \\circ [\\phi_1, \\phi_2]\")  # t3\n",
    "\n",
    "print(latex)"
   ]
  },
  {
   "cell_type": "code",
   "execution_count": 73,
   "metadata": {
    "collapsed": false
   },
   "outputs": [],
   "source": [
    "def comp_in_bin(x, y):\n",
    "    \"\"\"\n",
    "    [f, g \\circ h] = [f, g] \\circ h + (-1)^{|f||g|} g \\circ [f, h]\n",
    "    [f \\circ g, h] = f \\circ [g, h] + (-1)^{|g||h|} [f, h] \\circ g\n",
    "    \"\"\"\n",
    "    if r'\\circ' in y:\n",
    "        f = x\n",
    "        g, h = y.split(r' \\circ ')\n",
    "        rhs = r'[{f}, {g}] \\circ {h} + (-1)^{{|{f}||{g}|}} {g} \\circ [{f}, {h}]'\n",
    "    else:\n",
    "        f, g = x.split(r' \\circ ')\n",
    "        h = y\n",
    "        rhs = r'{f} \\circ [{g}, {h}] + (-1)^{{|{g}||{h}|}} [{f}, {h}] \\circ {g}'\n",
    "\n",
    "    lhs = r\"\\left[{}, {}\\right]\".format(x, y)\n",
    "    rhs = rhs.format(f=f, g=g, h=h)\n",
    "    latex = r\"\\[ {} = {} \\]\".format(lhs, rhs)\n",
    "    display_latex(Latex(latex))\n",
    "    return latex"
   ]
  },
  {
   "cell_type": "code",
   "execution_count": 34,
   "metadata": {
    "collapsed": false
   },
   "outputs": [
    {
     "data": {
      "text/latex": [
       "\\[ \\left[\\phi_1, \\psi_2 \\circ [\\psi_1, \\phi_2]\\right] = [\\phi_1, \\psi_2] \\circ [\\psi_1, \\phi_2] + (-1)^{|\\phi_1||\\psi_2|} \\psi_2 \\circ [\\phi_1, [\\psi_1, \\phi_2]] \\]"
      ]
     },
     "metadata": {},
     "output_type": "display_data"
    }
   ],
   "source": [
    "# a1\n",
    "# comp_in_bin(r\"\\psi_1 \\circ [\\psi_2, \\phi_1]\", r\"\\phi_3\")\n",
    "# comp_in_bin(r\"\\psi_1 \\circ [\\psi_2, \\phi_1]\", r\"\\phi_2\")\n",
    "\n",
    "# a2\n",
    "# comp_in_bin(r\"\\psi_2 \\circ [\\psi_1, \\phi_1]\", r\"\\phi_3\")\n",
    "# comp_in_bin(r\"\\psi_2 \\circ [\\psi_1, \\phi_1]\", r\"\\phi_2\")\n",
    "\n",
    "# a3\n",
    "# comp_in_bin(r\"\\phi_1 \\circ [\\psi_1, \\psi_2]\", r\"\\phi_3\")\n",
    "# comp_in_bin(r\"\\phi_1 \\circ [\\psi_1, \\psi_2]\", r\"\\phi_2\")\n",
    "\n",
    "# b1\n",
    "# comp_in_bin(r\"\\psi_1 \\circ [\\psi_2, \\phi_2]\", r\"\\phi_3\")\n",
    "# comp_in_bin(r\"\\phi_1\",  r\"\\psi_1 \\circ [\\psi_2, \\phi_2]\")\n",
    "\n",
    "# b2\n",
    "# comp_in_bin(r\"\\psi_2 \\circ [\\psi_1, \\phi_2]\", r\"\\phi_3\")\n",
    "comp_in_bin(r\"\\phi_1\",  r\"\\psi_2 \\circ [\\psi_1, \\phi_2]\")\n",
    "\n",
    "# b3\n",
    "# comp_in_bin(r\"\\phi_2 \\circ [\\psi_1, \\psi_2]\", r\"\\phi_3\")\n",
    "# comp_in_bin(r\"\\phi_1\",  r\"\\phi_2 \\circ [\\psi_1, \\psi_2]\")\n",
    "\n",
    "# c1\n",
    "# comp_in_bin(r\"\\phi_2\",  r\"\\psi_1 \\circ [\\psi_2, \\phi_3]\")\n",
    "# comp_in_bin(r\"\\phi_1\",  r\"\\psi_1 \\circ [\\psi_2, \\phi_3]\")\n",
    "\n",
    "# c2\n",
    "# comp_in_bin(r\"\\phi_2\",  r\"\\psi_2 \\circ [\\psi_1, \\phi_3]\")\n",
    "# comp_in_bin(r\"\\phi_1\",  r\"\\psi_2 \\circ [\\psi_1, \\phi_3]\")\n",
    "\n",
    "# c3\n",
    "# comp_in_bin(r\"\\phi_2\",  r\"\\phi_3 \\circ [\\psi_1, \\psi_2]\")\n",
    "# comp_in_bin(r\"\\phi_1\",  r\"\\phi_3 \\circ [\\psi_1, \\psi_2]\")\n"
   ]
  },
  {
   "cell_type": "code",
   "execution_count": 76,
   "metadata": {
    "collapsed": false
   },
   "outputs": [
    {
     "data": {
      "text/latex": [
       "\\[ \\left[\\psi_1, \\phi_1 \\circ [\\phi_2, \\phi_3]\\right] = [\\psi_1, \\phi_1] \\circ [\\phi_2, \\phi_3] + (-1)^{|\\psi_1||\\phi_1|} \\phi_1 \\circ [\\psi_1, [\\phi_2, \\phi_3]] \\]"
      ]
     },
     "metadata": {},
     "output_type": "display_data"
    },
    {
     "name": "stdout",
     "output_type": "stream",
     "text": [
      "\\[ \\left[\\psi_1, \\phi_1 \\circ [\\phi_2, \\phi_3]\\right] = [\\psi_1, \\phi_1] \\circ [\\phi_2, \\phi_3] + (-1)^{|\\psi_1||\\phi_1|} \\phi_1 \\circ [\\psi_1, [\\phi_2, \\phi_3]] \\]\n"
     ]
    }
   ],
   "source": [
    "# t1\n",
    "# latex = comp_in_bin(r\"\\psi_2\",  r\"\\phi_1 \\circ [\\phi_2, \\phi_3]\")\n",
    "latex = comp_in_bin(r\"\\psi_1\",  r\"\\phi_1 \\circ [\\phi_2, \\phi_3]\")\n",
    "\n",
    "# t2\n",
    "# comp_in_bin(r\"\\psi_2\",  r\"\\phi_2 \\circ [\\phi_1, \\phi_3]\")\n",
    "# comp_in_bin(r\"\\psi_1\",  r\"\\phi_2 \\circ [\\phi_1, \\phi_3]\")\n",
    "\n",
    "# t3\n",
    "# comp_in_bin(r\"\\psi_2\",  r\"\\phi_3 \\circ [\\phi_1, \\phi_2]\")\n",
    "# comp_in_bin(r\"\\psi_1\",  r\"\\phi_3 \\circ [\\phi_1, \\phi_2]\")\n",
    "\n",
    "print(latex)"
   ]
  },
  {
   "cell_type": "code",
   "execution_count": 71,
   "metadata": {
    "collapsed": false
   },
   "outputs": [
    {
     "data": {
      "text/plain": [
       "(0, -1)"
      ]
     },
     "execution_count": 71,
     "metadata": {},
     "output_type": "execute_result"
    }
   ],
   "source": [
    "def calc_comm(e, f, g, h, x):\n",
    "    \"\"\" [e f, g, h] = e [f, g, h] + [e, g, h] f \"\"\"\n",
    "    ef = lambda x: e(f(x))\n",
    "    lhs = ef(g(h(x))) - ef(h(g(x))) - g(ef(h(x))) + g(h(ef(x))) + h(ef(g(x))) - h(g(ef(x)))\n",
    "    rhs1 = e(f(g(h(x)))) - e(f(h(g(x)))) - e(g(f(h(x)))) + e(g(h(f(x)))) + e(h(f(g(x)))) - e(h(g(f(x))))\n",
    "    rhs2 = e(g(h(f(x)))) - e(h(g(f(x)))) - g(e(h(f(x)))) + g(h(e(f(x)))) + h(e(g(f(x)))) - h(g(e(f(x))))\n",
    "    return lhs, rhs1 + rhs2\n",
    "\n",
    "a = lambda x: x\n",
    "b = lambda x: 1\n",
    "c = lambda x: 1\n",
    "d = lambda x: 2\n",
    "\n",
    "calc_comm(a, b, c, d, 100)"
   ]
  },
  {
   "cell_type": "code",
   "execution_count": null,
   "metadata": {
    "collapsed": true
   },
   "outputs": [],
   "source": []
  }
 ],
 "metadata": {
  "kernelspec": {
   "display_name": "Python 3",
   "language": "python",
   "name": "python3"
  },
  "language_info": {
   "codemirror_mode": {
    "name": "ipython",
    "version": 3
   },
   "file_extension": ".py",
   "mimetype": "text/x-python",
   "name": "python",
   "nbconvert_exporter": "python",
   "pygments_lexer": "ipython3",
   "version": "3.4.3"
  }
 },
 "nbformat": 4,
 "nbformat_minor": 0
}
