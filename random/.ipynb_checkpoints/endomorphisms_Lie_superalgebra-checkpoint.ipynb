{
 "cells": [
  {
   "cell_type": "code",
   "execution_count": 2,
   "metadata": {
    "collapsed": false
   },
   "outputs": [],
   "source": [
    "from itertools import permutations, tee\n",
    "\n",
    "from IPython.display import display_latex, Latex"
   ]
  },
  {
   "cell_type": "code",
   "execution_count": 3,
   "metadata": {
    "collapsed": false
   },
   "outputs": [],
   "source": [
    "def pairs(xs):\n",
    "    return ((x, y) for i, x in enumerate(xs) for y in xs[i+1:])\n",
    "\n",
    "def parity(xs):\n",
    "    return sum((x > y for x, y in pairs(xs))) % 2"
   ]
  },
  {
   "cell_type": "code",
   "execution_count": 4,
   "metadata": {
    "collapsed": false
   },
   "outputs": [
    {
     "name": "stdout",
     "output_type": "stream",
     "text": [
      "(1, 2, 3) 0\n",
      "(1, 3, 2) 1\n",
      "(2, 1, 3) 1\n",
      "(2, 3, 1) 0\n",
      "(3, 1, 2) 0\n",
      "(3, 2, 1) 1\n"
     ]
    }
   ],
   "source": [
    "l = [1, 2, 3]\n",
    "ps = list(permutations(l))\n",
    "\n",
    "for p in ps:\n",
    "    print(p, parity(p))"
   ]
  },
  {
   "cell_type": "code",
   "execution_count": 5,
   "metadata": {
    "collapsed": false
   },
   "outputs": [
    {
     "data": {
      "text/latex": [
       "\\[ (1, 2, 3) \\rightarrow 0 \\]"
      ]
     },
     "metadata": {},
     "output_type": "display_data"
    },
    {
     "data": {
      "text/latex": [
       "\\[ (1, 3, 2) \\rightarrow \\left| \\phi_2 \\right| \\left| \\phi_3 \\right| \\]"
      ]
     },
     "metadata": {},
     "output_type": "display_data"
    },
    {
     "data": {
      "text/latex": [
       "\\[ (2, 1, 3) \\rightarrow \\left| \\phi_1 \\right| \\left| \\phi_2 \\right| \\]"
      ]
     },
     "metadata": {},
     "output_type": "display_data"
    },
    {
     "data": {
      "text/latex": [
       "\\[ (2, 3, 1) \\rightarrow \\left| \\phi_1 \\right| \\left( \\left| \\phi_2 \\right| + \\left| \\phi_3 \\right| \\right) \\]"
      ]
     },
     "metadata": {},
     "output_type": "display_data"
    },
    {
     "data": {
      "text/latex": [
       "\\[ (3, 1, 2) \\rightarrow \\left| \\phi_1 \\right| \\left| \\phi_3 \\right| + \\left| \\phi_2 \\right| \\left| \\phi_3 \\right| \\]"
      ]
     },
     "metadata": {},
     "output_type": "display_data"
    },
    {
     "data": {
      "text/latex": [
       "\\[ (3, 2, 1) \\rightarrow \\left| \\phi_2 \\right| \\left| \\phi_3 \\right| + \\left| \\phi_1 \\right| \\left( \\left| \\phi_3 \\right| + \\left| \\phi_2 \\right| \\right) \\]"
      ]
     },
     "metadata": {},
     "output_type": "display_data"
    }
   ],
   "source": [
    "n = 3\n",
    "for p in ps:\n",
    "    ss = []\n",
    "    for k in range(0, n):\n",
    "        i_k = p[k]\n",
    "        i_ls = []\n",
    "        for l in range(0, k):\n",
    "            i_l = p[l]\n",
    "            if i_k < i_l:\n",
    "                i_ls.append(r\"\\left| \\phi_%d \\right|\" % i_l)\n",
    "        if len(i_ls) == 0:\n",
    "            continue\n",
    "        elif len(i_ls) == 1:\n",
    "            s = r\"\\left| \\phi_%d \\right| %s\" % (i_k, i_ls[0])\n",
    "        else:\n",
    "            args = (i_k, ' + '.join(i_ls))\n",
    "            s = r\"\\left| \\phi_%d \\right| \\left( %s \\right)\" % args\n",
    "        ss.append(s)\n",
    "    s = \" + \".join(ss) if ss else '0'\n",
    "    display_latex(Latex(r\"\\[ %s \\rightarrow %s \\]\" % (p, s)))"
   ]
  },
  {
   "cell_type": "code",
   "execution_count": 31,
   "metadata": {
    "collapsed": false
   },
   "outputs": [
    {
     "data": {
      "text/latex": [
       "\\begin{align*} \\left[\\phi_1, \\phi_2, \\phi_3 \\circ [\\psi_1, \\psi_2]\\right]& = \\\\ \\phi_1 \\circ [\\phi_2, \\phi_3 \\circ [\\psi_1, \\psi_2]]& + \\\\ (-1)^{ 1 + \\left|\\phi_1\\right|\\left|\\phi_2\\right| } \\phi_2 \\circ [\\phi_1, \\phi_3 \\circ [\\psi_1, \\psi_2]]& + \\\\ (-1)^{ \\left|\\phi_1\\right|\\left|\\phi_3 \\circ [\\psi_1, \\psi_2]\\right|+\\left|\\phi_2\\right|\\left|\\phi_3 \\circ [\\psi_1, \\psi_2]\\right| } \\phi_3 \\circ [\\psi_1, \\psi_2] \\circ [\\phi_1, \\phi_2]& \\end{align*}"
      ]
     },
     "metadata": {},
     "output_type": "display_data"
    }
   ],
   "source": [
    "def ternary_to_bin(*ternary):\n",
    "    lhs = r\"\\left[{}, {}, {}\\right]\".format(*ternary)\n",
    "    \n",
    "    r1 = \"{1} \\circ [{2}, {3}]\"\n",
    "    r2 = r\"(-1)^{{ 1 + \\left|{1}\\right|\\left|{2}\\right| }} {2} \\circ [{1}, {3}]\"\n",
    "    r3 = r\"(-1)^{{ \\left|{1}\\right|\\left|{3}\\right|+\\left|{2}\\right|\\left|{3}\\right| }} {3} \\circ [{1}, {2}]\"\n",
    "    r = r\"{}& + \\\\ {}& + \\\\ {}&\".format(r1, r2, r3)\n",
    "    rhs = r.format(None, *ternary)\n",
    "\n",
    "    latex = r\"\\begin{{align*}} {}& = \\\\ {} \\end{{align*}}\".format(lhs, rhs)\n",
    "    display_latex(Latex(latex))\n",
    "\n",
    "# ternary_to_bin(r\"\\psi_1\", r\"\\psi_2\", r\"\\phi_1\")\n",
    "# ternary_to_bin(r\"\\psi_1\", r\"\\psi_2\", r\"\\phi_2\")\n",
    "# ternary_to_bin(r\"\\psi_1\", r\"\\psi_2\", r\"\\phi_3\")\n",
    "\n",
    "# ternary_to_bin(r\"\\psi_1 \\circ [\\psi_2, \\phi_1]\", r\"\\phi_2\", r\"\\phi_3\")\n",
    "# ternary_to_bin(r\"\\psi_2 \\circ [\\psi_1, \\phi_1]\", r\"\\phi_2\", r\"\\phi_3\")\n",
    "# ternary_to_bin(r\"\\phi_1 \\circ [\\psi_1, \\psi_2]\", r\"\\phi_2\", r\"\\phi_3\")\n",
    "\n",
    "# ternary_to_bin(r\"\\phi_1\", r\"\\psi_1 \\circ [\\psi_2, \\phi_2]\", r\"\\phi_3\")\n",
    "# ternary_to_bin(r\"\\phi_1\", r\"\\psi_2 \\circ [\\psi_1, \\phi_2]\", r\"\\phi_3\")\n",
    "# ternary_to_bin(r\"\\phi_1\", r\"\\phi_2 \\circ [\\psi_1, \\psi_2]\", r\"\\phi_3\")\n",
    "\n",
    "# ternary_to_bin(r\"\\phi_1\", r\"\\phi_2\", r\"\\psi_1 \\circ [\\psi_2, \\phi_3]\")\n",
    "# ternary_to_bin(r\"\\phi_1\", r\"\\phi_2\", r\"\\psi_2 \\circ [\\psi_1, \\phi_3]\")\n",
    "ternary_to_bin(r\"\\phi_1\", r\"\\phi_2\", r\"\\phi_3 \\circ [\\psi_1, \\psi_2]\")"
   ]
  },
  {
   "cell_type": "code",
   "execution_count": 7,
   "metadata": {
    "collapsed": false
   },
   "outputs": [],
   "source": [
    "def comm(indexes, only_starts_with=None, display=True, var=r\"\\phi\"):\n",
    "    def perm_to_power(p):\n",
    "        def sort(x, y): return (x, y) if x < y else (y, x)\n",
    "        def pair_to_prod(i1, i2): return r\"|%s_%d||%s_%d|\" % (var, i1, var, i2)\n",
    "        parity_s = \"1\" if parity(p) > 0 else \"\"\n",
    "        products = [sort(el, other) for i, el in enumerate(p) for other in p[i+1:] if el > other]\n",
    "        sum_s = \" + \".join([pair_to_prod(*p) for p in sorted(products)])\n",
    "        if parity_s and sum_s:\n",
    "            return \"%s + %s\" % (parity_s, sum_s)\n",
    "        return parity_s or sum_s\n",
    "\n",
    "    def perm_to_term(p):\n",
    "        power = perm_to_power(p)\n",
    "        sign = r\"(-1)^{%s}\" % power if power else \"\"\n",
    "        return sign + r\" \\circ \".join((r\"%s_%d\" % (var, d) for d in p))\n",
    "\n",
    "    perms = sorted(permutations(indexes), key=lambda xs: xs[0])\n",
    "    if only_starts_with:\n",
    "        perms = [p for p in perms if p[0] == only_starts_with]\n",
    "    terms = map(perm_to_term, perms)\n",
    "    left = \"[%s]\" % \", \".join((r\"%s_%d\" % (var, i) for i in indexes))\n",
    "    right = r\"& + \\\\\".join(terms)\n",
    "    latex = r\"\\begin{align*} %s& = \\\\ %s \\end{align*}\" % (left, right)\n",
    "    if display:\n",
    "        display_latex(Latex(latex))\n",
    "    return latex"
   ]
  },
  {
   "cell_type": "code",
   "execution_count": 9,
   "metadata": {
    "collapsed": false
   },
   "outputs": [
    {
     "data": {
      "text/latex": [
       "\\begin{align*} [\\phi_1, \\phi_2, \\phi_3, \\phi_4]& = \\\\ \\phi_1 \\circ \\phi_2 \\circ \\phi_3 \\circ \\phi_4& + \\\\(-1)^{1 + |\\phi_3||\\phi_4|}\\phi_1 \\circ \\phi_2 \\circ \\phi_4 \\circ \\phi_3& + \\\\(-1)^{1 + |\\phi_2||\\phi_3|}\\phi_1 \\circ \\phi_3 \\circ \\phi_2 \\circ \\phi_4& + \\\\(-1)^{|\\phi_2||\\phi_3| + |\\phi_2||\\phi_4|}\\phi_1 \\circ \\phi_3 \\circ \\phi_4 \\circ \\phi_2& + \\\\(-1)^{|\\phi_2||\\phi_4| + |\\phi_3||\\phi_4|}\\phi_1 \\circ \\phi_4 \\circ \\phi_2 \\circ \\phi_3& + \\\\(-1)^{1 + |\\phi_2||\\phi_3| + |\\phi_2||\\phi_4| + |\\phi_3||\\phi_4|}\\phi_1 \\circ \\phi_4 \\circ \\phi_3 \\circ \\phi_2 \\end{align*}"
      ]
     },
     "metadata": {},
     "output_type": "display_data"
    },
    {
     "data": {
      "text/latex": [
       "\\begin{align*} [\\psi_2, \\psi_3, \\psi_4]& = \\\\ \\psi_2 \\circ \\psi_3 \\circ \\psi_4& + \\\\(-1)^{1 + |\\psi_3||\\psi_4|}\\psi_2 \\circ \\psi_4 \\circ \\psi_3& + \\\\(-1)^{1 + |\\psi_2||\\psi_3|}\\psi_3 \\circ \\psi_2 \\circ \\psi_4& + \\\\(-1)^{|\\psi_2||\\psi_3| + |\\psi_2||\\psi_4|}\\psi_3 \\circ \\psi_4 \\circ \\psi_2& + \\\\(-1)^{|\\psi_2||\\psi_4| + |\\psi_3||\\psi_4|}\\psi_4 \\circ \\psi_2 \\circ \\psi_3& + \\\\(-1)^{1 + |\\psi_2||\\psi_3| + |\\psi_2||\\psi_4| + |\\psi_3||\\psi_4|}\\psi_4 \\circ \\psi_3 \\circ \\psi_2 \\end{align*}"
      ]
     },
     "metadata": {},
     "output_type": "display_data"
    }
   ],
   "source": [
    "l1 = comm([1,2,3,4], only_starts_with=1)\n",
    "l2 = comm([2,3,4], var=r\"\\psi\")\n",
    "\n",
    "latex = r\"\"\"\n",
    "\\begin{tabular}{ l l }\n",
    "  %s & %s\n",
    "\\end{tabular}\n",
    "\"\"\" % (l1, l2)\n",
    "\n",
    "# print(latex)\n",
    "# display_latex(Latex(latex))"
   ]
  },
  {
   "cell_type": "code",
   "execution_count": null,
   "metadata": {
    "collapsed": true
   },
   "outputs": [],
   "source": []
  }
 ],
 "metadata": {
  "kernelspec": {
   "display_name": "Python 3",
   "language": "python",
   "name": "python3"
  },
  "language_info": {
   "codemirror_mode": {
    "name": "ipython",
    "version": 3
   },
   "file_extension": ".py",
   "mimetype": "text/x-python",
   "name": "python",
   "nbconvert_exporter": "python",
   "pygments_lexer": "ipython3",
   "version": "3.4.3"
  }
 },
 "nbformat": 4,
 "nbformat_minor": 0
}
